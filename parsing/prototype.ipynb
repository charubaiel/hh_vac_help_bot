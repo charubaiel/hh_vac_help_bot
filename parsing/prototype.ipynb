{
 "cells": [
  {
   "cell_type": "code",
   "execution_count": 156,
   "metadata": {},
   "outputs": [],
   "source": [
    "import time\n",
    "from bs4 import BeautifulSoup\n",
    "import sqlite3\n",
    "import pandas as pd\n",
    "import requests as r\n",
    "import numpy as np\n",
    "from tqdm import tqdm"
   ]
  },
  {
   "cell_type": "code",
   "execution_count": 169,
   "metadata": {},
   "outputs": [],
   "source": [
    "REPORT_USER = \"WOWA\"\n",
    "FAKE_HISTORY = ['http://google.com','http://hh.ru','https://hh.ru/search/vacancy?area=&fromSearchLine=true&text=']\n",
    "HEADERS = {'User-Agent':'Mozilla/5.0 (Windows NT 10.0; Win64; x64) AppleWebKit/537.36 (KHTML, like Gecko) Chrome/100.0.4896.88 Safari/537.36',}"
   ]
  },
  {
   "cell_type": "code",
   "execution_count": 159,
   "metadata": {},
   "outputs": [],
   "source": [
    "params = {'schedule':'',\n",
    "            'area':1,\n",
    "            'order_by':'publication_time',\n",
    "            'employment':'full',\n",
    "            'experience':'doesNotMatter',\n",
    "            'excluded_text':'',\n",
    "            'text':'DevOps',\n",
    "            'search_field':'name',\n",
    "            'items_on_page':20,\n",
    "            'no_magic':'true',\n",
    "            'page':0,\n",
    "            'hhtmFrom':'vacancy_search_list'}"
   ]
  },
  {
   "cell_type": "code",
   "execution_count": 160,
   "metadata": {},
   "outputs": [],
   "source": [
    "def generate_query(params):\n",
    "    base_url = 'https://hh.ru/search/vacancy?'\n",
    "    query_params = '&'.join([ f'{i}={params[i]}' for i in params])\n",
    "    return base_url+query_params"
   ]
  },
  {
   "cell_type": "code",
   "execution_count": 164,
   "metadata": {},
   "outputs": [],
   "source": [
    "def parse_vacancy_pages(page):\n",
    "    soup = BeautifulSoup(page.text)\n",
    "    vacancys = []\n",
    "    for i in soup.findAll('a',{'data-qa':'vacancy-serp__vacancy-title'}):\n",
    "        vacancys.append(i['href'].split('?')[0])\n",
    "    return vacancys"
   ]
  },
  {
   "cell_type": "code",
   "execution_count": 165,
   "metadata": {},
   "outputs": [],
   "source": [
    "def get_hh_pages(params,n_pages=5):\n",
    "    pages = []\n",
    "    with r.Session() as s:\n",
    "\n",
    "        s.headers.update(HEADERS)\n",
    "        [s.get(i) for i in FAKE_HISTORY];\n",
    "\n",
    "        for _ in tqdm(range(n_pages)):\n",
    "\n",
    "            time.sleep(np.random.poisson(5))\n",
    "\n",
    "            response = s.get(generate_query(params=params))\n",
    "\n",
    "            if response.status_code == 200:\n",
    "                \n",
    "                pages.append(parse_vacancy_pages(response))\n",
    "\n",
    "            params['page'] +=1\n",
    "        \n",
    "    return sum(pages,[])\n"
   ]
  },
  {
   "cell_type": "code",
   "execution_count": 166,
   "metadata": {},
   "outputs": [],
   "source": [
    "def parse_vaс(response):\n",
    "    assert response.status_code == 200\n",
    "    vac_soup = BeautifulSoup(response.text)\n",
    "    vac_dict = {}\n",
    "\n",
    "    vac_dict['Name'] = vac_soup.find('h1',{'data-qa':'vacancy-title'}).text\n",
    "    vac_dict['Company'] = vac_soup.find('a',{'data-qa':'vacancy-company-name'}).text\n",
    "    vac_dict['Salary'] = vac_soup.find('div',{'data-qa':'vacancy-salary'}).text\n",
    "\n",
    "    vac_dict['Exp'] = vac_soup.find('span',{'data-qa':'vacancy-experience'}).text\n",
    "    vac_dict['Type'] = vac_soup.find('p',{'data-qa':'vacancy-view-employment-mode'}).text\n",
    "\n",
    "    try:\n",
    "        vac_dict['Description'] = vac_soup.find('div',{'class':'vacancy-branded-user-content'}).text\n",
    "    except:\n",
    "        vac_dict['Description'] = vac_soup.find('div',{'class':'g-user-content'}).text\n",
    "    try:    \n",
    "        vac_dict['Tags'] = vac_soup.find('div',{'class':'bloko-tag-list'}).text\n",
    "    except:\n",
    "        vac_dict['Tags'] = ''\n",
    "\n",
    "\n",
    "    return vac_dict"
   ]
  },
  {
   "cell_type": "code",
   "execution_count": 176,
   "metadata": {},
   "outputs": [],
   "source": [
    "def collect_vacancys(vacs_url_list):\n",
    "    \n",
    "    vac_data_list = []\n",
    "    with r.Session() as ses:\n",
    "        ses.headers.update(HEADERS)\n",
    "        ses.get('http://google.com')\n",
    "        ses.get('http://hh.ru')\n",
    "        for vac in tqdm(vacs_url_list):\n",
    "\n",
    "            time.sleep(np.random.poisson(3))\n",
    "\n",
    "            vac_data_list.append(\n",
    "                parse_vaс(\n",
    "                    ses.get(vac)\n",
    "                    )\n",
    "                )\n",
    "\n",
    "    return pd.DataFrame(vac_data_list).assign(url = vacs_url_list,date = pd.to_datetime('now').date())"
   ]
  },
  {
   "cell_type": "code",
   "execution_count": 197,
   "metadata": {},
   "outputs": [],
   "source": [
    "def batch_load_to_db(ttl_vac_list):\n",
    "\n",
    "    conn = sqlite3.connect('HH_vacancy.db')\n",
    "\n",
    "    batch_size = 27\n",
    "    batch_count = len(ttl_vac_list) // batch_size +1\n",
    "    print(f'Total batch count : {batch_count}' )\n",
    "    for idx in range(batch_count):\n",
    "\n",
    "        idx_start = batch_size*idx\n",
    "        idx_end = batch_size*(idx+1)\n",
    "\n",
    "        batch_data = collect_vacancys(ttl_vac_list[idx_start:idx_end])\n",
    "\n",
    "        batch_data.assign(Query=params['text']).to_sql(name = REPORT_USER,con=conn,if_exists='append',index=False)\n",
    "        \n",
    "    conn.commit()\n",
    "    conn.close()\n",
    "\n"
   ]
  },
  {
   "cell_type": "code",
   "execution_count": 170,
   "metadata": {},
   "outputs": [
    {
     "name": "stderr",
     "output_type": "stream",
     "text": [
      "100%|██████████| 10/10 [00:59<00:00,  5.92s/it]\n"
     ]
    }
   ],
   "source": [
    "vacancy_list = get_hh_pages(params,n_pages=10)"
   ]
  },
  {
   "cell_type": "code",
   "execution_count": 194,
   "metadata": {},
   "outputs": [],
   "source": [
    "def check_doppelgangers(vacancy_list):\n",
    "    conn = sqlite3.connect('HH_vacancy.db')\n",
    "    db_urls = pd.read_sql(f'select url from {REPORT_USER}',con=conn)['url'].tolist()\n",
    "    conn.close()\n",
    "    uniq = list(set(vacancy_list) - set(db_urls))\n",
    "    return uniq"
   ]
  },
  {
   "cell_type": "code",
   "execution_count": 195,
   "metadata": {},
   "outputs": [],
   "source": [
    "uniq_vacancy_list = check_doppelgangers(vacancy_list)"
   ]
  },
  {
   "cell_type": "code",
   "execution_count": 198,
   "metadata": {},
   "outputs": [
    {
     "name": "stdout",
     "output_type": "stream",
     "text": [
      "Total batch count : 1\n"
     ]
    },
    {
     "name": "stderr",
     "output_type": "stream",
     "text": [
      "100%|██████████| 11/11 [00:30<00:00,  2.81s/it]\n"
     ]
    }
   ],
   "source": [
    "batch_load_to_db(uniq_vacancy_list)"
   ]
  },
  {
   "cell_type": "code",
   "execution_count": 410,
   "metadata": {},
   "outputs": [],
   "source": [
    "conn = sqlite3.connect('HH_vacancy.db')\n",
    "df = pd.read_sql('select * from WOWA',con=conn)\n",
    "conn.close()"
   ]
  },
  {
   "cell_type": "code",
   "execution_count": 411,
   "metadata": {},
   "outputs": [],
   "source": [
    "df['Tags'] = df['Tags'].str.findall(r'([A-Z](?:[a-z]+|[A-Z]*(?=[A-Z]|$)))')"
   ]
  },
  {
   "cell_type": "code",
   "execution_count": 413,
   "metadata": {},
   "outputs": [],
   "source": [
    "df['Salary'] = df['Salary'].str.replace('\\xa0','').str.extract('(\\d+)').astype('float')\n",
    "df['Salary'] = df['Salary'].apply(lambda x: x*80 if x < 10000 else x)"
   ]
  },
  {
   "cell_type": "code",
   "execution_count": 414,
   "metadata": {},
   "outputs": [],
   "source": [
    "df ['Stack'] = df['Description'].str.findall('([A-Z][A-z]+)')"
   ]
  },
  {
   "cell_type": "code",
   "execution_count": 415,
   "metadata": {},
   "outputs": [
    {
     "data": {
      "text/plain": [
       "array([[<AxesSubplot:title={'center':'1–3 года'}, xlabel='Stack'>,\n",
       "        <AxesSubplot:title={'center':'3–6 лет'}, xlabel='Stack'>],\n",
       "       [<AxesSubplot:title={'center':'более 6 лет'}, xlabel='Stack'>,\n",
       "        <AxesSubplot:title={'center':'не требуется'}, xlabel='Stack'>]],\n",
       "      dtype=object)"
      ]
     },
     "execution_count": 415,
     "metadata": {},
     "output_type": "execute_result"
    },
    {
     "data": {
      "image/png": "[encoded data removed]",
      "text/plain": [
       "<Figure size 1080x432 with 4 Axes>"
      ]
     },
     "metadata": {},
     "output_type": "display_data"
    }
   ],
   "source": [
    "df[['Exp','Stack']].explode('Stack').groupby('Exp')['Stack'].value_counts()\\\n",
    "    .groupby(level=0).nlargest(15).reset_index(0,drop=True).unstack(0).sort_values(by='1–3 года',ascending=False).plot.bar(subplots=True,layout=(2,2))"
   ]
  },
  {
   "cell_type": "code",
   "execution_count": 416,
   "metadata": {},
   "outputs": [
    {
     "data": {
      "text/plain": [
       "<AxesSubplot:title={'center':'Salary'}, xlabel='Exp'>"
      ]
     },
     "execution_count": 416,
     "metadata": {},
     "output_type": "execute_result"
    },
    {
     "data": {
      "image/png": "[encoded data removed]",
      "text/plain": [
       "<Figure size 1080x432 with 1 Axes>"
      ]
     },
     "metadata": {},
     "output_type": "display_data"
    }
   ],
   "source": [
    "df.boxplot('Salary',by='Exp')"
   ]
  },
  {
   "cell_type": "code",
   "execution_count": 431,
   "metadata": {},
   "outputs": [
    {
     "data": {
      "text/plain": [
       "count        65.000000\n",
       "mean     238938.461538\n",
       "std      115007.727583\n",
       "min       32000.000000\n",
       "25%      150000.000000\n",
       "50%      220000.000000\n",
       "75%      300000.000000\n",
       "max      640000.000000\n",
       "Name: Salary, dtype: float64"
      ]
     },
     "execution_count": 431,
     "metadata": {},
     "output_type": "execute_result"
    }
   ],
   "source": [
    "df['Salary'].describe()"
   ]
  },
  {
   "cell_type": "code",
   "execution_count": 437,
   "metadata": {},
   "outputs": [
    {
     "data": {
      "text/plain": [
       "Tags\n",
       "AWSC                                             480000.0\n",
       "CEP                                              400000.0\n",
       "Bashkubernetes                                   350000.0\n",
       "SQLORACLE                                        330000.0\n",
       "Linuxaws                                         320000.0\n",
       "SSH                                              320000.0\n",
       "Automation                                       320000.0\n",
       "Google                                           320000.0\n",
       "Kubernetesdevopsranchersrettmdeliveryhighload    320000.0\n",
       "Amazon                                           320000.0\n",
       "AWSGCP                                           315000.0\n",
       "AWS                                              309000.0\n",
       "Patroni                                          300000.0\n",
       "Go                                               282500.0\n",
       "Terraform                                        281875.0\n",
       "Mongo                                            280000.0\n",
       "Nomad                                            280000.0\n",
       "City                                             280000.0\n",
       "Circle                                           280000.0\n",
       "DBC                                              280000.0\n",
       "Name: Salary, dtype: float64"
      ]
     },
     "execution_count": 437,
     "metadata": {},
     "output_type": "execute_result"
    }
   ],
   "source": [
    "df[['Tags','Salary']].explode('Tags').groupby('Tags')['Salary'].mean().sort_values(ascending=False).iloc[:20]"
   ]
  }
 ],
 "metadata": {
  "interpreter": {
   "hash": "916dbcbb3f70747c44a77c7bcd40155683ae19c65e1c03b4aa3499c5328201f1"
  },
  "kernelspec": {
   "display_name": "Python 3.8.10 64-bit",
   "language": "python",
   "name": "python3"
  },
  "language_info": {
   "codemirror_mode": {
    "name": "ipython",
    "version": 3
   },
   "file_extension": ".py",
   "mimetype": "text/x-python",
   "name": "python",
   "nbconvert_exporter": "python",
   "pygments_lexer": "ipython3",
   "version": "3.10.0"
  },
  "orig_nbformat": 4
 },
 "nbformat": 4,
 "nbformat_minor": 2
}
